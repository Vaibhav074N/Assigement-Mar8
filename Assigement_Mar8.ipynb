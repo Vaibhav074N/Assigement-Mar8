{
  "nbformat": 4,
  "nbformat_minor": 0,
  "metadata": {
    "colab": {
      "provenance": [],
      "authorship_tag": "ABX9TyO5Y1lEmVRUYIVnQsbAq0zd",
      "include_colab_link": true
    },
    "kernelspec": {
      "name": "python3",
      "display_name": "Python 3"
    },
    "language_info": {
      "name": "python"
    }
  },
  "cells": [
    {
      "cell_type": "markdown",
      "metadata": {
        "id": "view-in-github",
        "colab_type": "text"
      },
      "source": [
        "<a href=\"https://colab.research.google.com/github/Vaibhav074N/Assigement-Mar8/blob/main/Assigement_Mar8.ipynb\" target=\"_parent\"><img src=\"https://colab.research.google.com/assets/colab-badge.svg\" alt=\"Open In Colab\"/></a>"
      ]
    },
    {
      "cell_type": "markdown",
      "source": [
        "Q1. What is the Probability density function?"
      ],
      "metadata": {
        "id": "kOx9I_4DzOxY"
      }
    },
    {
      "cell_type": "markdown",
      "source": [
        "Probability density function is a function used in probability theory to describe the probability distribution of a continuous random variable. It provides the probability of finding a random variable within a particular range of values, as opposed to the probability of finding a specific value. The PDF is a non-negative function, and its integral over the entire space of the random variable is equal to 1"
      ],
      "metadata": {
        "id": "-GW1Hoe6zTB6"
      }
    },
    {
      "cell_type": "code",
      "execution_count": null,
      "metadata": {
        "id": "QEpMahMyzGXF"
      },
      "outputs": [],
      "source": []
    },
    {
      "cell_type": "markdown",
      "source": [
        "Q2. What are the types of Probability distribution?"
      ],
      "metadata": {
        "id": "wG7qrJtyzn7s"
      }
    },
    {
      "cell_type": "markdown",
      "source": [
        "1.Normal/Gaussion distribution\n",
        "\n",
        "2.Bernoulli distribution\n",
        "\n",
        "3.Uniform distribution\n",
        "\n",
        "4.Log Normal distribution\n",
        "\n",
        "5.Poisson distribution\n",
        "\n",
        "6.Power Law distribution\n",
        "\n",
        "7.Binomial distribution"
      ],
      "metadata": {
        "id": "yFLaw7SOz8Px"
      }
    },
    {
      "cell_type": "code",
      "source": [],
      "metadata": {
        "id": "gJysJzX7z7Za"
      },
      "execution_count": null,
      "outputs": []
    },
    {
      "cell_type": "markdown",
      "source": [
        "Q3. Write a Python function to calculate the probability density function of a normal distribution with\n",
        "given mean and standard deviation at a given point."
      ],
      "metadata": {
        "id": "2XSna2K908SQ"
      }
    },
    {
      "cell_type": "code",
      "source": [
        "def normal_pdf(x, mu, sigma):\n",
        "    pi = 3.141592653589793\n",
        "    factor = 1 / (sigma * ((2 * pi) ** 0.5))\n",
        "    exponent = -0.5 * ((x - mu) / sigma) ** 2\n",
        "    pdf = factor * (2.71828 ** exponent)\n",
        "    return pdf"
      ],
      "metadata": {
        "id": "PdzVg6M4z6jA"
      },
      "execution_count": 1,
      "outputs": []
    },
    {
      "cell_type": "code",
      "source": [
        "normal_pdf(1, 2, 1)"
      ],
      "metadata": {
        "colab": {
          "base_uri": "https://localhost:8080/"
        },
        "id": "G1r2LZc-7LQb",
        "outputId": "9ff54fef-4dbf-4cc1-ebe8-499f3e79dfdc"
      },
      "execution_count": 2,
      "outputs": [
        {
          "output_type": "execute_result",
          "data": {
            "text/plain": [
              "0.24197080590028983"
            ]
          },
          "metadata": {},
          "execution_count": 2
        }
      ]
    },
    {
      "cell_type": "code",
      "source": [],
      "metadata": {
        "id": "yD4lwleq7VM1"
      },
      "execution_count": null,
      "outputs": []
    },
    {
      "cell_type": "markdown",
      "source": [
        "Q4. What are the properties of Binomial distribution? Give two examples of events where binomial\n",
        "distribution can be applied."
      ],
      "metadata": {
        "id": "O0izlBey8FUe"
      }
    },
    {
      "cell_type": "markdown",
      "source": [
        "The properties of binomial distribution are:\n",
        "\n",
        "1.There are a fixed number of trials, denoted by \"n\".\n",
        "\n",
        "2.Each trial has only two possible outcomes, typically labeled as \"success\" and \"failure\".\n",
        "\n",
        "3.The probability of success, denoted by \"p\", is constant for each trial.\n",
        "\n",
        "4.The trials are independent of each other.\n",
        "\n",
        "5.The random variable X, representing the number of successes in n trials, follows a binomial distribution with parameters n and p.\n",
        "\n",
        "6.The mean of the binomial distribution is μ = np.\n",
        "\n",
        "7.The variance of the binomial distribution is σ^2 = np(1-p).\n",
        "\n",
        "8.The shape of the binomial distribution is influenced by the values of n and p. When n is large and p is close to 0.5, the binomial distribution is approximately normal.\n",
        "\n",
        "Two examples where binomial distribution can be applied are:\n",
        "\n",
        "Tossing a coin: Suppose we toss a fair coin 10 times and we want to find the probability of getting exactly 7 heads. Here, each toss of the coin is an independent trial and there are only two possible outcomes (heads or tails). The probability of getting a head is 0.5 (assuming the coin is fair) and this probability remains constant for all the trials.\n",
        "\n",
        "Quality control: In a factory, a machine produces defective items 5% of the time. If we randomly select 10 items produced by this machine, we can model the number of defective items as a binomial distribution. Here, each item inspected is a trial and there are only two possible outcomes (defective or non-defective). The probability of getting a defective item is 0.05 and this probability remains constant for all the trials."
      ],
      "metadata": {
        "id": "rxcCsMIS8Hli"
      }
    },
    {
      "cell_type": "code",
      "source": [],
      "metadata": {
        "id": "OzQolCVJ8Gw4"
      },
      "execution_count": null,
      "outputs": []
    },
    {
      "cell_type": "markdown",
      "source": [
        "Q5. Generate a random sample of size 1000 from a binomial distribution with probability of success 0.4\n",
        "and plot a histogram of the results using matplotlib."
      ],
      "metadata": {
        "id": "HWWdfu4Z945a"
      }
    },
    {
      "cell_type": "code",
      "source": [
        "import numpy as np\n",
        "import matplotlib.pyplot as plt\n",
        "\n",
        "n = 1000\n",
        "p = 0.4\n",
        "sample = np.random.binomial(n, p, size=n)\n",
        "\n",
        "plt.hist(sample, bins=20, density=True, alpha=0.5)\n",
        "plt.xlabel('Number of successes')\n",
        "plt.ylabel('Probability density')\n",
        "plt.title('Binomial distribution with n=1000, p=0.4')\n",
        "plt.show()\n"
      ],
      "metadata": {
        "colab": {
          "base_uri": "https://localhost:8080/",
          "height": 472
        },
        "id": "I9IiUEyR98Ln",
        "outputId": "0756e9f5-806a-4870-bafc-7030efa82c27"
      },
      "execution_count": 3,
      "outputs": [
        {
          "output_type": "display_data",
          "data": {
            "text/plain": [
              "<Figure size 640x480 with 1 Axes>"
            ],
            "image/png": "[encoded data removed]"
          },
          "metadata": {}
        }
      ]
    },
    {
      "cell_type": "code",
      "source": [],
      "metadata": {
        "id": "P4dcv7OL-pGk"
      },
      "execution_count": null,
      "outputs": []
    },
    {
      "cell_type": "markdown",
      "source": [
        "Q6. Write a Python function to calculate the cumulative distribution function of a Poisson distribution\n",
        "with given mean at a given point."
      ],
      "metadata": {
        "id": "-XB2TmMG-4lt"
      }
    },
    {
      "cell_type": "code",
      "source": [
        "import math"
      ],
      "metadata": {
        "id": "OI0nyi6X_hs8"
      },
      "execution_count": 6,
      "outputs": []
    },
    {
      "cell_type": "code",
      "source": [
        "def poisson_cdf(x, mean):\n",
        "    cdf = 0\n",
        "    for i in range(x+1):\n",
        "        cdf += ((mean ** i) * (2.71828 ** -mean)) / math.factorial(i)\n",
        "    return cdf"
      ],
      "metadata": {
        "id": "P9KYvnBZ-8n3"
      },
      "execution_count": 7,
      "outputs": []
    },
    {
      "cell_type": "code",
      "source": [
        "poisson_cdf(3, 2)"
      ],
      "metadata": {
        "colab": {
          "base_uri": "https://localhost:8080/"
        },
        "id": "jX4igUPy_WW2",
        "outputId": "a22c0418-ef8a-4126-9f03-788aeb99873b"
      },
      "execution_count": 8,
      "outputs": [
        {
          "output_type": "execute_result",
          "data": {
            "text/plain": [
              "0.8571246135921734"
            ]
          },
          "metadata": {},
          "execution_count": 8
        }
      ]
    },
    {
      "cell_type": "code",
      "source": [],
      "metadata": {
        "id": "UhvV-Zn8_aWl"
      },
      "execution_count": null,
      "outputs": []
    },
    {
      "cell_type": "markdown",
      "source": [
        "Q7. How Binomial distribution different from Poisson distribution?"
      ],
      "metadata": {
        "id": "0FENEVRi_uyf"
      }
    },
    {
      "cell_type": "markdown",
      "source": [
        "Binomial distribution and Poisson distribution are both discrete probability distributions, but they have different characteristics and are used in different situations.\n",
        "\n",
        "The main differences between the two distributions are:\n",
        "\n",
        "1.Binomial distribution deals with the number of successes in a fixed number of trials, where each trial has only two possible outcomes (success or failure). Poisson distribution deals with the number of occurrences of an event in a fixed interval of time or space.\n",
        "\n",
        "2.Binomial distribution has two parameters: the number of trials and the probability of success. Poisson distribution has only one parameter: the mean or average number of occurrences.\n",
        "\n",
        "3.Binomial distribution is used when the probability of success is constant throughout the trials and the trials are independent. Poisson distribution is used when the events occur randomly and independently of each other, and the rate of occurrence is constant throughout the interval.\n",
        "\n",
        "Examples where binomial distribution can be applied:\n",
        "\n",
        "1.The number of heads obtained when flipping a coin a fixed number of times.\n",
        "\n",
        "2.The number of defective items in a sample of a fixed size from a production line.\n",
        "\n",
        "Examples where Poisson distribution can be applied:\n",
        "\n",
        "1.The number of customers arriving at a store in a fixed interval of time.\n",
        "\n",
        "2.The number of cars passing through a particular intersection in a fixed interval of time."
      ],
      "metadata": {
        "id": "sLckNkWaAnaL"
      }
    },
    {
      "cell_type": "code",
      "source": [],
      "metadata": {
        "id": "sV7IZaIM_y7p"
      },
      "execution_count": null,
      "outputs": []
    },
    {
      "cell_type": "markdown",
      "source": [
        "Q8. Generate a random sample of size 1000 from a Poisson distribution with mean 5 and calculate the\n",
        "sample mean and variance."
      ],
      "metadata": {
        "id": "wBUVmYTXA6Lm"
      }
    },
    {
      "cell_type": "code",
      "source": [
        "import numpy as np\n",
        "\n",
        "sample = np.random.poisson(lam=5, size=1000)\n",
        "\n",
        "mean = np.mean(sample)\n",
        "\n",
        "variance = np.var(sample)\n",
        "\n",
        "print(\"Sample mean:\", mean)\n",
        "print(\"Sample variance:\", variance)"
      ],
      "metadata": {
        "colab": {
          "base_uri": "https://localhost:8080/"
        },
        "id": "VRzlE_tGA875",
        "outputId": "1677c9f1-a73a-4baf-9500-6664231be948"
      },
      "execution_count": 12,
      "outputs": [
        {
          "output_type": "stream",
          "name": "stdout",
          "text": [
            "Sample mean: 5.049\n",
            "Sample variance: 5.064599\n"
          ]
        }
      ]
    },
    {
      "cell_type": "code",
      "source": [],
      "metadata": {
        "id": "FliCp3E0BZZU"
      },
      "execution_count": null,
      "outputs": []
    },
    {
      "cell_type": "markdown",
      "source": [
        "Q9. How mean and variance are related in Binomial distribution and Poisson distribution?"
      ],
      "metadata": {
        "id": "4S1nF-ySCEhR"
      }
    },
    {
      "cell_type": "markdown",
      "source": [
        "In a binomial distribution, the mean (μ) is equal to the product of the number of trials (n) and the probability of success (p), while the variance (σ^2) is equal to the product of the number of trials, the probability of success, and the probability of failure (q=1-p).\n",
        "\n",
        "On the other hand, in a Poisson distribution, both the mean (μ) and variance (σ^2) are equal to the parameter lambda (λ).\n",
        "\n",
        "Therefore, in a Poisson distribution, the mean and variance are always equal, while in a binomial distribution, the variance depends on both the number of trials and the probability of success and failure"
      ],
      "metadata": {
        "id": "AEg3v3SfCIzO"
      }
    },
    {
      "cell_type": "code",
      "source": [],
      "metadata": {
        "id": "BFwCLlAdCH75"
      },
      "execution_count": null,
      "outputs": []
    },
    {
      "cell_type": "markdown",
      "source": [
        "Q10. In normal distribution with respect to mean position, where does the least frequent data appear?"
      ],
      "metadata": {
        "id": "1j8KCAVJCqN2"
      }
    },
    {
      "cell_type": "markdown",
      "source": [
        "In a normal distribution, the least frequent data appears in the tails or the extreme ends of the distribution, far away from the mean."
      ],
      "metadata": {
        "id": "1Z2HEjBYDB7d"
      }
    },
    {
      "cell_type": "code",
      "source": [],
      "metadata": {
        "id": "xRHSvlijCtPn"
      },
      "execution_count": null,
      "outputs": []
    }
  ]
}